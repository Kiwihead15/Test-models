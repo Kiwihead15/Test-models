{
  "nbformat": 4,
  "nbformat_minor": 0,
  "metadata": {
    "colab": {
      "provenance": [],
      "gpuType": "T4",
      "authorship_tag": "ABX9TyOPVybzAr1cxBFGx3bytXat",
      "include_colab_link": true
    },
    "kernelspec": {
      "name": "python3",
      "display_name": "Python 3"
    },
    "language_info": {
      "name": "python"
    },
    "accelerator": "GPU"
  },
  "cells": [
    {
      "cell_type": "markdown",
      "metadata": {
        "id": "view-in-github",
        "colab_type": "text"
      },
      "source": [
        "<a href=\"https://colab.research.google.com/github/Kiwihead15/Test-models/blob/main/Test_bart_large_cnn.ipynb\" target=\"_parent\"><img src=\"https://colab.research.google.com/assets/colab-badge.svg\" alt=\"Open In Colab\"/></a>"
      ]
    },
    {
      "cell_type": "code",
      "execution_count": null,
      "metadata": {
        "id": "O1ovjML55Pr-"
      },
      "outputs": [],
      "source": [
        "! pip install transformers accelerate"
      ]
    },
    {
      "cell_type": "code",
      "source": [
        "from transformers import pipeline\n",
        "import torch"
      ],
      "metadata": {
        "id": "2xOrlcnV5oKa"
      },
      "execution_count": 2,
      "outputs": []
    },
    {
      "cell_type": "code",
      "source": [
        "summarizer = pipeline(task = \"summarization\", model = 'facebook/bart-large-cnn',  )"
      ],
      "metadata": {
        "id": "5wbijt6x5qj6"
      },
      "execution_count": 10,
      "outputs": []
    },
    {
      "cell_type": "code",
      "source": [
        "topic ='''Israel continues its attacks on Gaza, 30 days after it began its air, sea and ground offensive in the territory. Its official objective is to wipe out Hamas — which killed 1,400 people in its October 7 attack — but the vast majority of the 9,770 fatalities in Gaza are civilians. On Sunday, Israeli warplanes hit the Maghazi refugee camp, killing at least 47 people, according to local Hamas officials. Meanwhile, the president of the Palestinian Authority (PA), Mahmoud Abbas, has not ruled out returning to govern Gaza, which has been under Hamas’s control since 2007. He made this comment on Sunday in Ramallah, in the occupied West Bank, after meeting with U.S. Secretary of State Antony Blinken, a staunch ally of Israel’s military operation in Gaza. Abbas conditioned this possible compromise on reaching a solution that encompasses not only Gaza, but also the West Bank and East Jerusalem, which are occupied by Israel.\n",
        "\n",
        "“We will fully assume our responsibilities within the framework of a comprehensive political solution that includes all of the [occupied] West Bank, including East Jerusalem and the Gaza Strip,” Abbas was quoted as telling Blinken by the official Palestinian news agency Wafa. It is the first time during the current war that the Palestinian leader has expressed the PA’s readiness to be part of the solution.\n",
        "\n",
        "In this way, the 87-year-old president intends to keep the three territories under the same negotiating framework. The Hamas attack not only dealt the biggest blow to Israel in its 75-year history, but also boosted the popularity of the Islamic resistance movement to the detriment of the increasingly embattled Abbas. In response to the October 7 massacre, Israel has laid siege to Gaza, but it is not clear who will rule the territory once its operation is over.\n",
        "\n",
        "In the short term, after meeting with Blinken, the Palestinian leader demanded “an immediate cessation of the devastating war, and the acceleration of the provision of humanitarian aid, including medical, food, water, electricity, and fuel, to the Gaza Strip,” according to Wafa.\n",
        "\n",
        "Abbas accused Israel of violating international law. “I have no words to describe the genocide and destruction suffered by our Palestinian people in Gaza at the hands of Israel’s war machine, with no regard for the principles of international law,” Abbas told Blinken in Ramallah.'''"
      ],
      "metadata": {
        "id": "JyiWk32Z5Q5M"
      },
      "execution_count": 11,
      "outputs": []
    },
    {
      "cell_type": "code",
      "source": [
        "summary = summarizer(topic, min_length = 100)"
      ],
      "metadata": {
        "id": "P5uzvJYh64ZE"
      },
      "execution_count": 12,
      "outputs": []
    },
    {
      "cell_type": "code",
      "source": [
        "print(summary)"
      ],
      "metadata": {
        "colab": {
          "base_uri": "https://localhost:8080/"
        },
        "id": "Ff0XMUOr7p5g",
        "outputId": "63b5b2c1-1f14-46f0-acde-ceae62ce06e3"
      },
      "execution_count": 13,
      "outputs": [
        {
          "output_type": "stream",
          "name": "stdout",
          "text": [
            "[{'summary_text': 'Israel continues its attacks on Gaza, 30 days after it began its air, sea and ground offensive in the territory. On Sunday, Israeli warplanes hit the Maghazi refugee camp, killing at least 47 people, according to local Hamas officials. Meanwhile, the president of the Palestinian Authority (PA), Mahmoud Abbas, has not ruled out returning to govern Gaza. Abbas conditioned this possible compromise on reaching a solution that encompasses not only Gaza, but also the West Bank and East Jerusalem, which are occupied by Israel.'}]\n"
          ]
        }
      ]
    }
  ]
}