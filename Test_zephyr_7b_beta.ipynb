{
  "nbformat": 4,
  "nbformat_minor": 0,
  "metadata": {
    "colab": {
      "provenance": [],
      "gpuType": "T4",
      "authorship_tag": "ABX9TyOVtcMAoYU1dhJoxSgrTHbQ",
      "include_colab_link": true
    },
    "kernelspec": {
      "name": "python3",
      "display_name": "Python 3"
    },
    "language_info": {
      "name": "python"
    },
    "accelerator": "GPU"
  },
  "cells": [
    {
      "cell_type": "markdown",
      "metadata": {
        "id": "view-in-github",
        "colab_type": "text"
      },
      "source": [
        "<a href=\"https://colab.research.google.com/github/Kiwihead15/Test-zephyr-7b-beta/blob/main/Test_zephyr_7b_beta.ipynb\" target=\"_parent\"><img src=\"https://colab.research.google.com/assets/colab-badge.svg\" alt=\"Open In Colab\"/></a>"
      ]
    },
    {
      "cell_type": "code",
      "source": [
        "! pip install transformers accelerate"
      ],
      "metadata": {
        "id": "9NEW1Cwy_9IQ"
      },
      "execution_count": null,
      "outputs": []
    },
    {
      "cell_type": "code",
      "execution_count": 4,
      "metadata": {
        "id": "eI7sdGtR-38F"
      },
      "outputs": [],
      "source": [
        "from transformers import pipeline\n",
        "import torch"
      ]
    },
    {
      "cell_type": "code",
      "source": [
        "pipe = pipeline(task=\"text-generation\", model=\"HuggingFaceH4/zephyr-7b-beta\", torch_dtype=torch.bfloat16, device_map=\"auto\")"
      ],
      "metadata": {
        "id": "Sw2YIo6h_VKZ"
      },
      "execution_count": null,
      "outputs": []
    },
    {
      "cell_type": "code",
      "source": [
        "messages = [\n",
        "    {\n",
        "        \"role\": \"system\",\n",
        "        \"content\": \"You are a friendly chatbot who always responds in the style of a specialist\",\n",
        "    },\n",
        "    {\"role\": \"user\", \"content\": \"Do pizzas have gluten?\"},\n",
        "]\n"
      ],
      "metadata": {
        "id": "xiqk9-id_ZT_"
      },
      "execution_count": 23,
      "outputs": []
    },
    {
      "cell_type": "code",
      "source": [
        "messages"
      ],
      "metadata": {
        "colab": {
          "base_uri": "https://localhost:8080/"
        },
        "id": "Lp2V_sju2UWP",
        "outputId": "eb2bf79b-0564-4446-df55-6641cbe14765"
      },
      "execution_count": 24,
      "outputs": [
        {
          "output_type": "execute_result",
          "data": {
            "text/plain": [
              "[{'role': 'system',\n",
              "  'content': 'You are a friendly chatbot who always responds in the style of a specialist'},\n",
              " {'role': 'user', 'content': 'Do pizzas have gluten?'}]"
            ]
          },
          "metadata": {},
          "execution_count": 24
        }
      ]
    },
    {
      "cell_type": "code",
      "source": [
        "prompt = pipe.tokenizer.apply_chat_template(messages, tokenize=False, add_generation_prompt=True)\n"
      ],
      "metadata": {
        "id": "hzy2owTa_dtp"
      },
      "execution_count": 25,
      "outputs": []
    },
    {
      "cell_type": "code",
      "source": [
        "prompt"
      ],
      "metadata": {
        "colab": {
          "base_uri": "https://localhost:8080/",
          "height": 35
        },
        "id": "xgdaSVsq2kNt",
        "outputId": "79a48982-367a-477d-b720-3f7e94cc31ce"
      },
      "execution_count": 26,
      "outputs": [
        {
          "output_type": "execute_result",
          "data": {
            "text/plain": [
              "'<|system|>\\nYou are a friendly chatbot who always responds in the style of a specialist</s>\\n<|user|>\\nDo pizzas have gluten?</s>\\n<|assistant|>\\n'"
            ],
            "application/vnd.google.colaboratory.intrinsic+json": {
              "type": "string"
            }
          },
          "metadata": {},
          "execution_count": 26
        }
      ]
    },
    {
      "cell_type": "code",
      "source": [
        "outputs = pipe(prompt, max_new_tokens=256, do_sample=True, temperature=0.7, top_k=50, top_p=0.95)\n"
      ],
      "metadata": {
        "id": "ziQSTZf0_fSA"
      },
      "execution_count": 27,
      "outputs": []
    },
    {
      "cell_type": "code",
      "source": [
        "print(outputs[0][\"generated_text\"])"
      ],
      "metadata": {
        "colab": {
          "base_uri": "https://localhost:8080/"
        },
        "id": "h8oAqn54_g9A",
        "outputId": "f534c24d-5e67-4f8c-b560-4e611c38f354"
      },
      "execution_count": 28,
      "outputs": [
        {
          "output_type": "stream",
          "name": "stdout",
          "text": [
            "<|system|>\n",
            "You are a friendly chatbot who always responds in the style of a specialist</s>\n",
            "<|user|>\n",
            "Do pizzas have gluten?</s>\n",
            "<|assistant|>\n",
            "Not all pizzas are gluten-free. Traditional pizza dough is made with wheat flour, which contains gluten. However, some pizzerias offer gluten-free crusts made with alternative flours such as rice, corn, or potato flour. It's best to check with the restaurant to see if they have gluten-free options available.\n"
          ]
        }
      ]
    }
  ]
}